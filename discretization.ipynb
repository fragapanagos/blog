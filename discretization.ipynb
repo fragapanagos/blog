{
 "metadata": {
  "name": "",
  "signature": "sha256:6a7fee636503175525ce6c8467e7690df2607dd20b44b9a2cf42de9f44b513d7"
 },
 "nbformat": 3,
 "nbformat_minor": 0,
 "worksheets": [
  {
   "cells": [
    {
     "cell_type": "heading",
     "level": 1,
     "metadata": {},
     "source": [
      "Discretization of a differential equation"
     ]
    },
    {
     "cell_type": "markdown",
     "metadata": {},
     "source": [
      "Discretization is a key step in simulating a differential equation on a computer.  There are many ways to discretize a continuous function: Euler's method, impulse invariance, bilinear transform, and many more. Here we'll consider Euler's method and impulse invariance.\n",
      "\n",
      "Consider the following differential equation:\n",
      "\n",
      "$$\\tau\\dot{x}=-x+u$$\n",
      "\n",
      "We need to approximate $x(t)$ and $\\dot{x}$ in terms of $x[k]$, where $x[k]$ is the $k$th sample of $x(t)$. That is\n",
      "\n",
      "$$x[k]=x(t_k)$$\n",
      "\n",
      "where $t_k = k \\Delta t$ for sample period $\\Delta t$."
     ]
    },
    {
     "cell_type": "heading",
     "level": 2,
     "metadata": {},
     "source": [
      "Euler's method"
     ]
    },
    {
     "cell_type": "markdown",
     "metadata": {},
     "source": [
      "Euler's method approximates the differential operator with a difference equation. This is equivalent to linearizing the differential equation about a point.  Among the various versions ofthe Euler method, the most common are the **forward difference** and the **backward difference** approximations. "
     ]
    },
    {
     "cell_type": "markdown",
     "metadata": {},
     "source": [
      "\\begin{align}\n",
      "\\dot{x}(t_k)& \\approx \\frac{x(t_{k+1})-x(t_{k})}{\\Delta t} \\quad \\text{forward Euler} \\\\\n",
      "\\dot{x}(t_k)& \\approx \\frac{x(t_{k})-x(t_{k-1})}{\\Delta t} \\quad \\text{backward Euler}\n",
      "\\end{align}"
     ]
    },
    {
     "cell_type": "markdown",
     "metadata": {},
     "source": [
      "or in discrete notation"
     ]
    },
    {
     "cell_type": "markdown",
     "metadata": {},
     "source": [
      "\\begin{align}\n",
      "\\dot{x}(t_k)& \\approx \\frac{x[k+1]-x[k]}{\\Delta t} \\quad \\text{forward Euler} \\\\\n",
      "\\dot{x}(t_k)& \\approx \\frac{x[k]-x[k-1]}{\\Delta t} \\quad \\text{backward Euler}\n",
      "\\end{align}"
     ]
    },
    {
     "cell_type": "markdown",
     "metadata": {},
     "source": [
      "Substituting the forward Euler approximation into the differential equation under consideration, we have"
     ]
    },
    {
     "cell_type": "markdown",
     "metadata": {},
     "source": [
      "\\begin{align}\n",
      "\\tau\\frac{x[k+1]-x[k]}{\\Delta t} &= -x[k] + u[k] \\\\\n",
      "\\frac{\\tau}{\\Delta t}x[k+1]-\\frac{\\tau}{\\Delta t}x[k] &= -x[k] + u[k] \\\\\n",
      "\\frac{\\tau}{\\Delta t}x[k+1] &= \\left(\\frac{\\tau}{\\Delta t}-1\\right)x[k] + u[k] \\\\\n",
      "\\frac{\\tau}{\\Delta t}x[k+1] &= \\left(\\frac{\\tau-\\Delta t}{\\Delta t}\\right)x[k] + u[k] \\\\\n",
      "x[k+1] &= \\left(\\frac{\\tau-\\Delta t}{\\tau}\\right)x[k] + \\frac{\\Delta t}{\\tau}u[k] \\\\\n",
      "x[k+1] &= \\alpha x[k] + (1-\\alpha) u[k] \\qquad \\text{where }\\alpha\\triangleq\\left(\\frac{\\tau-\\Delta t}{\\tau}\\right)\n",
      "\\end{align}"
     ]
    },
    {
     "cell_type": "markdown",
     "metadata": {},
     "source": [
      "With the backward Euler approximation, we have"
     ]
    },
    {
     "cell_type": "markdown",
     "metadata": {},
     "source": [
      "\\begin{align}\n",
      "\\tau\\frac{x[k]-x[k-1]}{\\Delta t} &= -x[k] + u[k] \\\\\n",
      "\\frac{\\tau}{\\Delta t}x[k]-\\frac{\\tau}{\\Delta t}x[k-1] &= -x[k] + u[k] \\\\\n",
      "\\left(\\frac{\\tau}{\\Delta t}+1\\right)x[k] &= \\frac{\\tau}{\\Delta t}x[k-1] + u[k] \\\\\n",
      "\\left(\\frac{\\tau+\\Delta t}{\\Delta t}\\right)x[k] &= \\frac{\\tau}{\\Delta t}x[k-1] + u[k] \\\\\n",
      "x[k] &= \\left(\\frac{\\tau}{\\tau+\\Delta t}\\right)x[k-1] + \\left(\\frac{\\Delta t}{\\tau+\\Delta t}\\right)u[k] \\\\\n",
      "x[k] &= \\alpha x[k-1] + (1-\\alpha) u[k] \\qquad \\text{where }\\alpha\\triangleq\\left(\\frac{\\tau}{\\tau+\\Delta t}\\right)\n",
      "\\end{align}"
     ]
    },
    {
     "cell_type": "markdown",
     "metadata": {},
     "source": [
      "Note the similarity in form of the resulting update equations between the forward and backward Euler method. Both are a weighted sum of the previous state and the input."
     ]
    },
    {
     "cell_type": "heading",
     "level": 2,
     "metadata": {},
     "source": [
      "Impulse Invariance"
     ]
    },
    {
     "cell_type": "markdown",
     "metadata": {},
     "source": [
      "The basic idea of using **impuse invariance** to discretize a continuous system is to first sample the impulse response, then find the transfer function, and then find the corresponding update equation. That is, for continuous impulse response $h(t)$, the discrete impulse response will be given by \n",
      "\n",
      "$$h[n]=h(n \\Delta t)\\Delta t.$$\n",
      "\n",
      "For the continuous transfer function with $N$ poles\n",
      "\n",
      "$$H(s)=\\sum_{k=1}^N\\frac{A_k}{s-s_k},$$\n",
      "\n",
      "the discrete transfer function will be given by\n",
      "\n",
      "$$H(z)=\\Delta t\\sum_{k=1}^N\\frac{A_k}{1-e^{s_k\\Delta t}z^{-1}}.$$\n",
      "\n",
      "Our differential equation $\\tau \\dot{x}=-x+u$ has impulse response\n",
      "\n",
      "$$h(t) = \\frac{1}{\\tau}e^{-t/\\tau}u(t)$$\n",
      "\n",
      "where $u(t)$ is the unit step function, which corresponds to the transfer function"
     ]
    },
    {
     "cell_type": "markdown",
     "metadata": {},
     "source": [
      "\\begin{align}\n",
      "\\tau sX(s) &= -X(s)+U(s) \\\\\n",
      "(\\tau s+1)X(s) &= U(s) \\\\\n",
      "\\frac{X(s)}{U(s)} &= \\frac{1}{\\tau s+1}\n",
      "\\end{align}"
     ]
    },
    {
     "cell_type": "markdown",
     "metadata": {},
     "source": [
      "\\begin{align}\n",
      "H(s) &= \\frac{X(s)}{U(s)} \\\\\n",
      " &= \\frac{1}{\\tau s+1} \\\\\n",
      " &= \\frac{1/\\tau}{s+1/\\tau}\n",
      "\\end{align}"
     ]
    },
    {
     "cell_type": "markdown",
     "metadata": {},
     "source": [
      "This means that the discrete transfer function will be\n",
      "\n",
      "$$H(z)=\\frac{\\Delta t/\\tau}{1-e^{-\\Delta t/\\tau}z^{-1}}.$$\n",
      "\n",
      "From the transfer function, we can derive the update equation."
     ]
    },
    {
     "cell_type": "markdown",
     "metadata": {},
     "source": [
      "\\begin{align}\n",
      "H(z) &= \\frac{X(z)}{U(z)} \\\\\n",
      "\\frac{\\Delta t/\\tau}{1-e^{-\\Delta t/\\tau}z^{-1}} &= \\frac{X(z)}{U(z)} \\\\\n",
      "\\left(1-e^{-\\Delta t/\\tau}z^{-1}\\right)X(z) &= \\frac{\\Delta t}{\\tau}U(z) \\\\\n",
      "X(z) &= e^{-\\Delta t/\\tau}z^{-1}X(z) + \\frac{\\Delta t}{\\tau}U(z) \\\\\n",
      "x[k] &= e^{-\\Delta t/\\tau}x[k-1]+\\frac{\\Delta t}{\\tau}u[k]\n",
      "\\end{align}"
     ]
    },
    {
     "cell_type": "markdown",
     "metadata": {},
     "source": [
      "See again that the difference equation takes on the same form with the weighted sum of the previous state with the input. In addition, if we use the Taylor series expansion of the exponential we can see the connection between the impulse invariance approximation and the foward Euler method."
     ]
    },
    {
     "cell_type": "markdown",
     "metadata": {},
     "source": [
      "\\begin{align}\n",
      "e^{\\Delta t/\\tau} &= 1-\\frac{\\Delta t}{\\tau}+\n",
      "    \\frac{1}{2!}\\left(\\frac{\\Delta t}{\\tau}\\right)^2-\n",
      "    \\frac{1}{3!}\\left(\\frac{\\Delta t}{\\tau}\\right)^3\\ldots \\\\\n",
      " &\\approx 1-\\frac{\\Delta t}{\\tau} \\\\\n",
      " &= \\frac{\\tau-\\Delta t}{\\tau}\n",
      "\\end{align}"
     ]
    },
    {
     "cell_type": "markdown",
     "metadata": {},
     "source": [
      "Substituting the Taylor series approximation, we get\n",
      "$$x[k]=\\frac{\\tau - \\Delta t}{\\tau}x[k-1]+\\frac{\\Delta t}{\\tau}u[k]$$\n",
      "which is the same as the forward Euler method approximation!"
     ]
    }
   ],
   "metadata": {}
  }
 ]
}