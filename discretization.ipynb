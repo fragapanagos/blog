{
 "metadata": {
  "name": "",
  "signature": "sha256:7562bdefde661a54f11cca0c00fc715b0a51884684103bc6a4c3126fd211c0c8"
 },
 "nbformat": 3,
 "nbformat_minor": 0,
 "worksheets": [
  {
   "cells": [
    {
     "cell_type": "heading",
     "level": 1,
     "metadata": {},
     "source": [
      "Discretization of a differential equation"
     ]
    },
    {
     "cell_type": "markdown",
     "metadata": {},
     "source": [
      "Discretization is a key step in simulating a differential equation on a computer.  There are many ways to discretize a continuous function: \n",
      "\n",
      " - foward Euler's method\n",
      " - backward Euler's method\n",
      " - bilinear transform\n",
      " - impulse invariance\n",
      " - and many more.\n",
      " \n",
      "Here we'll consider Euler's method and a few variations on impulse invariance.\n",
      "\n",
      "Consider the following differential equation:\n",
      "\n",
      "$$\\tau\\dot{x}=-x+u$$\n",
      "\n",
      "We need to approximate $x(t)$ and $\\dot{x}$ in terms of $x[k]$, where $x[k]$ is the $k$th sample of $x(t)$. That is\n",
      "\n",
      "$$x[k]=x(t_k)$$\n",
      "\n",
      "where $t_k = k \\Delta t$ for sample period $\\Delta t$. We'd like to find an update equation that describes the $x$ over the discrete steps in time. That is, we'd like to find an equation of the form\n",
      "\n",
      "$$\n",
      "x[k] = f(x\\text{ in the past}) + g(\\text{input})\n",
      "$$"
     ]
    },
    {
     "cell_type": "heading",
     "level": 2,
     "metadata": {},
     "source": [
      "Euler's method"
     ]
    },
    {
     "cell_type": "markdown",
     "metadata": {},
     "source": [
      "Euler's method approximates the differential operator with a difference equation. This is equivalent to linearizing the differential equation about a point.  Among the various versions ofthe Euler method, the most common are the **forward difference** and the **backward difference** approximations. "
     ]
    },
    {
     "cell_type": "markdown",
     "metadata": {},
     "source": [
      "\\begin{align}\n",
      "\\dot{x}(t_k)& \\approx \\frac{x(t_{k+1})-x(t_{k})}{\\Delta t} \\quad \\text{forward Euler} \\\\\n",
      "\\dot{x}(t_k)& \\approx \\frac{x(t_{k})-x(t_{k-1})}{\\Delta t} \\quad \\text{backward Euler}\n",
      "\\end{align}"
     ]
    },
    {
     "cell_type": "markdown",
     "metadata": {},
     "source": [
      "or in discrete notation"
     ]
    },
    {
     "cell_type": "markdown",
     "metadata": {},
     "source": [
      "\\begin{align}\n",
      "\\dot{x}(t_k)& \\approx \\frac{x[k+1]-x[k]}{\\Delta t} \\quad \\text{forward Euler} \\\\\n",
      "\\dot{x}(t_k)& \\approx \\frac{x[k]-x[k-1]}{\\Delta t} \\quad \\text{backward Euler}\n",
      "\\end{align}"
     ]
    },
    {
     "cell_type": "heading",
     "level": 3,
     "metadata": {},
     "source": [
      "Discretization using the forward Euler's method"
     ]
    },
    {
     "cell_type": "markdown",
     "metadata": {},
     "source": [
      "Substituting the forward Euler approximation into the differential equation under consideration, we have\n",
      "\n",
      "\\begin{align}\n",
      "\\tau\\frac{x[k+1]-x[k]}{\\Delta t} &= -x[k] + u[k] \\\\\n",
      "\\frac{\\tau}{\\Delta t}x[k+1]-\\frac{\\tau}{\\Delta t}x[k] &= -x[k] + u[k] \\\\\n",
      "\\frac{\\tau}{\\Delta t}x[k+1] &= \\left(\\frac{\\tau}{\\Delta t}-1\\right)x[k] + u[k] \\\\\n",
      "\\frac{\\tau}{\\Delta t}x[k+1] &= \\left(\\frac{\\tau-\\Delta t}{\\Delta t}\\right)x[k] + u[k] \\\\\n",
      "x[k+1] &= \\left(\\frac{\\tau-\\Delta t}{\\tau}\\right)x[k] + \\frac{\\Delta t}{\\tau}u[k] \\\\\n",
      "x[k+1] &= \\alpha x[k] + (1-\\alpha) u[k] \\qquad \\text{where }\\alpha\\triangleq\\left(\\frac{\\tau-\\Delta t}{\\tau}\\right)\n",
      "\\end{align}"
     ]
    },
    {
     "cell_type": "heading",
     "level": 3,
     "metadata": {},
     "source": [
      "Discretization using the backward Euler's method"
     ]
    },
    {
     "cell_type": "markdown",
     "metadata": {},
     "source": [
      "With the backward Euler approximation, we have\n",
      "\n",
      "\\begin{align}\n",
      "\\tau\\frac{x[k]-x[k-1]}{\\Delta t} &= -x[k] + u[k] \\\\\n",
      "\\frac{\\tau}{\\Delta t}x[k]-\\frac{\\tau}{\\Delta t}x[k-1] &= -x[k] + u[k] \\\\\n",
      "\\left(\\frac{\\tau}{\\Delta t}+1\\right)x[k] &= \\frac{\\tau}{\\Delta t}x[k-1] + u[k] \\\\\n",
      "\\left(\\frac{\\tau+\\Delta t}{\\Delta t}\\right)x[k] &= \\frac{\\tau}{\\Delta t}x[k-1] + u[k] \\\\\n",
      "x[k] &= \\left(\\frac{\\tau}{\\tau+\\Delta t}\\right)x[k-1] + \\left(\\frac{\\Delta t}{\\tau+\\Delta t}\\right)u[k] \\\\\n",
      "x[k] &= \\alpha x[k-1] + (1-\\alpha) u[k] \\qquad \\text{where }\\alpha\\triangleq\\left(\\frac{\\tau}{\\tau+\\Delta t}\\right)\n",
      "\\end{align}"
     ]
    },
    {
     "cell_type": "markdown",
     "metadata": {},
     "source": [
      "Note that the update equations have the same form in both the forward and backward Euler's method. Both are a weighted sum of the previous state and the input."
     ]
    },
    {
     "cell_type": "heading",
     "level": 2,
     "metadata": {},
     "source": [
      "Impulse invariance"
     ]
    },
    {
     "cell_type": "markdown",
     "metadata": {},
     "source": [
      "The basic idea of **impuse invariance** is to discretize a continuous system by sampling the impulse response, finding the transfer function, and then finding the corresponding update equation. That is, for continuous impulse response $h(t)$, the discrete impulse response will be given by \n",
      "\n",
      "$$h[n]=h(n \\Delta t)\\Delta t.$$\n",
      "\n",
      "Note that this formula is not consistent when a causal continuous-time impulse response has a discontinuity at $t=0$ (See [here](http://ieeexplore.ieee.org/xpl/freeabs_all.jsp?tp=&arnumber=870677&isnumber=18861)), but for now we'll assume that the correction has a negligible effect (its effect is proportional to the step size) and continue with the uncorrected version for simplicity. We'll look at the corrected version later. For a continuous transfer function with $N$ poles\n",
      "\n",
      "$$H(s)=\\sum_{k=1}^N\\frac{A_k}{s-s_k},$$\n",
      "\n",
      "the discrete transfer function will be given by\n",
      "\n",
      "$$H(z)=\\Delta t\\sum_{k=1}^N\\frac{A_k}{1-e^{s_k\\Delta t}z^{-1}}.$$\n",
      "\n",
      "Our differential equation $\\tau \\dot{x}=-x+u$ has impulse response\n",
      "\n",
      "$$h(t) = \\frac{1}{\\tau}e^{-t/\\tau}u(t)$$\n",
      "\n",
      "where $u(t)$ is the unit step function, which corresponds to the transfer function"
     ]
    },
    {
     "cell_type": "markdown",
     "metadata": {},
     "source": [
      "\\begin{align}\n",
      "\\tau sX(s) &= -X(s)+U(s) \\\\\n",
      "(\\tau s+1)X(s) &= U(s) \\\\\n",
      "\\frac{X(s)}{U(s)} &= \\frac{1}{\\tau s+1}\n",
      "\\end{align}"
     ]
    },
    {
     "cell_type": "markdown",
     "metadata": {},
     "source": [
      "\\begin{align}\n",
      "H(s) &= \\frac{X(s)}{U(s)} \\\\\n",
      " &= \\frac{1}{\\tau s+1} \\\\\n",
      " &= \\frac{1/\\tau}{s+1/\\tau}\n",
      "\\end{align}"
     ]
    },
    {
     "cell_type": "markdown",
     "metadata": {},
     "source": [
      "This means that the discrete transfer function will be\n",
      "\n",
      "$$H(z)=\\frac{\\Delta t/\\tau}{1-e^{-\\Delta t/\\tau}z^{-1}}.$$\n",
      "\n",
      "From the transfer function, we can derive the update equation."
     ]
    },
    {
     "cell_type": "markdown",
     "metadata": {},
     "source": [
      "\\begin{align}\n",
      "H(z) &= \\frac{X(z)}{U(z)} \\\\\n",
      "\\frac{\\Delta t/\\tau}{1-e^{-\\Delta t/\\tau}z^{-1}} &= \\frac{X(z)}{U(z)} \\\\\n",
      "\\left(1-e^{-\\Delta t/\\tau}z^{-1}\\right)X(z) &= \\frac{\\Delta t}{\\tau}U(z) \\\\\n",
      "X(z) &= e^{-\\Delta t/\\tau}z^{-1}X(z) + \\frac{\\Delta t}{\\tau}U(z) \\\\\n",
      "x[k] &= e^{-\\Delta t/\\tau}x[k-1]+\\frac{\\Delta t}{\\tau}u[k]\n",
      "\\end{align}"
     ]
    },
    {
     "cell_type": "markdown",
     "metadata": {},
     "source": [
      "See again that the difference equation takes on the same form with the weighted sum of the previous state with the input. In addition, if we use the Taylor series expansion of the exponential we can see the connection between the impulse invariance approximation and the foward Euler method."
     ]
    },
    {
     "cell_type": "markdown",
     "metadata": {},
     "source": [
      "\\begin{align}\n",
      "e^{\\Delta t/\\tau} &= 1-\\frac{\\Delta t}{\\tau}+\n",
      "    \\frac{1}{2!}\\left(\\frac{\\Delta t}{\\tau}\\right)^2-\n",
      "    \\frac{1}{3!}\\left(\\frac{\\Delta t}{\\tau}\\right)^3\\ldots \\\\\n",
      " &\\approx 1-\\frac{\\Delta t}{\\tau} \\\\\n",
      " &= \\frac{\\tau-\\Delta t}{\\tau}\n",
      "\\end{align}"
     ]
    },
    {
     "cell_type": "markdown",
     "metadata": {},
     "source": [
      "Substituting the Taylor series approximation, we get\n",
      "$$x[k]=\\frac{\\tau - \\Delta t}{\\tau}x[k-1]+\\frac{\\Delta t}{\\tau}u[k]$$\n",
      "which is the same as the forward Euler method approximation!"
     ]
    },
    {
     "cell_type": "heading",
     "level": 2,
     "metadata": {},
     "source": [
      "Impulse invariance, corrected"
     ]
    },
    {
     "cell_type": "markdown",
     "metadata": {},
     "source": [
      "For a continuous transfer function \n",
      "\n",
      "$$H(s)=\\sum_{k=1}^N\\frac{A_k}{s-s_k},$$\n",
      "\n",
      "the corrected impulse invariance is given by \n",
      "\n",
      "$$\n",
      "h[n] = T\\left(h(nT)-\\frac{1}{2}h(0)\\delta[n]\\right)\n",
      "$$\n",
      "\n",
      "which consequently means that \n",
      "\n",
      "$$\n",
      "H(z) = \\Delta t\\sum_{k=1}^{N}\\frac{A_k}{1-e^{s_k\\Delta t}z^{-1}} - \\frac{\\Delta t}{2}\\sum_{k=1}^{N}A_k.\n",
      "$$\n",
      "\n",
      "Recall that our differential equation has a transfer function \n",
      "\n",
      "$$\n",
      "H(s)=\\frac{1/\\tau}{s+1/\\tau},\n",
      "$$"
     ]
    },
    {
     "cell_type": "markdown",
     "metadata": {},
     "source": [
      "so our discrete transfer function will be given by\n",
      "\n",
      "\\begin{align}\n",
      "H(z) &= \\frac{\\Delta t/\\tau}{1-e^{-\\Delta t/\\tau}z^{-1}} - \\frac{\\Delta t/\\tau}{2} \\\\\n",
      " &= \\frac{\\Delta t}{\\tau}\\left(\\frac{1}{1-e^{-\\Delta t/\\tau}z^{-1}} - \\frac{1}{2}\\right) \\\\\n",
      " &= \\frac{\\Delta t}{2\\tau}\\left(\\frac{2-\\left(1-e^{-\\Delta t/\\tau}z^{-1}\\right)}{1-e^{-\\Delta t/\\tau}z^{-1}}\\right) \\\\\n",
      " &= \\frac{\\Delta t}{2\\tau}\\left(\\frac{1+e^{-\\Delta t/\\tau}z^{-1}}{1-e^{-\\Delta t/\\tau}z^{-1}}\\right) \\\\\n",
      "\\end{align}"
     ]
    },
    {
     "cell_type": "markdown",
     "metadata": {},
     "source": [
      "Our update equation will then follow as\n",
      "\n",
      "\\begin{align}\n",
      "\\frac{X(z)}{U(z)} &= H(z) \\\\\n",
      " &= \\frac{\\Delta t}{2\\tau}\\left(\\frac{1+e^{-\\Delta t/\\tau}z^{-1}}{1-e^{-\\Delta t/\\tau}z^{-1}}\\right) \\\\\n",
      "X(z)\\left(1-e^{-\\Delta t/\\tau}z^{-1}\\right) &= \\frac{\\Delta t}{2\\tau}\\left(1+e^{-\\Delta t/\\tau}z^{-1}\\right)U(z) \\\\\n",
      " &\\Updownarrow \\\\\n",
      "x[k]-e^{-\\Delta t/\\tau}x[k-1] &= \\frac{\\Delta t}{2\\tau}u[k]+\\frac{\\Delta t}{2\\tau}e^{-\\Delta t/\\tau}u[k-1] \\\\\n",
      "x[k] &= e^{-\\Delta t/\\tau}x[k-1] + \\frac{\\Delta t}{2\\tau}u[k]+\\frac{\\Delta t}{2\\tau}e^{-\\Delta t/\\tau}u[k-1]. \\\\\n",
      "\\end{align}"
     ]
    },
    {
     "cell_type": "heading",
     "level": 1,
     "metadata": {},
     "source": [
      "Conservation of area"
     ]
    },
    {
     "cell_type": "markdown",
     "metadata": {},
     "source": [
      "Sometimes we care about preserving the area of the continuous function being discretized. The area, as the integral of the function over time, often has the physical interpretation of energy. Here we look at whether the various discretization techniques preserve the area of an impulse in their impulse responses. An impulse is defined as having unit area. We typically discretize the impulse as a $1$-time step pulse of height $\\frac{1}{\\Delta t}$ at $u[0]$ so that with a time step of $\\Delta t$, the area is given by $\\frac{1}{\\Delta t}\\Delta t=1$. "
     ]
    },
    {
     "cell_type": "heading",
     "level": 2,
     "metadata": {},
     "source": [
      "Forward Euler's method area"
     ]
    },
    {
     "cell_type": "markdown",
     "metadata": {},
     "source": [
      "Recall that the update equation for the forward Euler's method is \n",
      "\n",
      "$$\n",
      "x[k+1] = \\left(\\frac{\\tau-\\Delta t}{\\tau}\\right)x[k] + \\frac{\\Delta t}{\\tau}u[k].\n",
      "$$\n",
      "\n",
      "Given an impulse of height $\\frac{1}{\\Delta t}$, the impulse response will then have area\n",
      "\n",
      "\\begin{align}\n",
      "A &= \\Delta t\\left(\\frac{1}{\\tau} + \n",
      "     \\frac{1}{\\tau}\\left(\\frac{\\tau-\\Delta t}{\\tau}\\right) + \n",
      "     \\frac{1}{\\tau}\\left(\\frac{\\tau-\\Delta t}{\\tau}\\right)^2 + \\ldots\\right) \\\\\n",
      "  &= \\frac{\\Delta t}{\\tau}\\sum_{k=0}^{\\infty}\\left(\\frac{\\tau-\\Delta t}{\\tau}\\right)^k \\\\\n",
      "  &= \\frac{\\Delta t}{\\tau}\\frac{1}{1-\\frac{\\tau-\\Delta t}{\\tau}} \\\\\n",
      "  &= \\frac{\\Delta t}{\\tau}\\frac{\\tau}{\\tau-(\\tau-\\Delta t)} \\\\\n",
      "  &= \\frac{\\Delta t}{\\Delta t} \\\\\n",
      "  &= 1.\n",
      "\\end{align}\n",
      "\n",
      "The unit area is preserved!"
     ]
    },
    {
     "cell_type": "heading",
     "level": 2,
     "metadata": {},
     "source": [
      "Backward Euler's method area"
     ]
    },
    {
     "cell_type": "markdown",
     "metadata": {},
     "source": [
      "Recall that the update equation for the forward Euler's method is \n",
      "\n",
      "$$\n",
      "x[k] = \\left(\\frac{\\tau}{\\tau+\\Delta t}\\right)x[k-1] + \\left(\\frac{\\Delta t}{\\tau+\\Delta t}\\right)u[k] \n",
      "$$\n",
      "\n",
      "Given an impulse of height $\\frac{1}{\\Delta t}$, the impulse response will then have area\n",
      "\n",
      "\\begin{align}\n",
      "A &= \\Delta t\\left(\\frac{1}{\\tau+\\Delta t} + \n",
      "     \\frac{1}{\\tau+\\Delta t}\\frac{\\tau}{\\tau+\\Delta t} +\n",
      "     \\frac{1}{\\tau+\\Delta t}\\left(\\frac{\\tau}{\\tau+\\Delta t}\\right)^2 +\n",
      "     \\ldots \\right) \\\\\n",
      "  &= \\frac{\\Delta t}{\\tau+\\Delta t}\\sum_{k=0}^{\\infty}\\left(\\frac{\\tau}{\\tau+\\Delta t}\\right)^k \\\\\n",
      "  &= \\frac{\\Delta t}{\\tau+\\Delta t}\\frac{1}{1-\\frac{\\tau}{\\tau+\\Delta t}} \\\\\n",
      "  &= \\frac{\\Delta t}{\\tau+\\Delta t}\\frac{\\tau+\\Delta t}{\\tau+\\Delta t-\\tau} \\\\\n",
      "  &= \\frac{\\Delta t}{\\Delta t} \\\\\n",
      "  &= 1.\n",
      "\\end{align}\n",
      "\n",
      "The unit area is preserved!"
     ]
    },
    {
     "cell_type": "heading",
     "level": 2,
     "metadata": {},
     "source": [
      "Impulse invariance area"
     ]
    },
    {
     "cell_type": "markdown",
     "metadata": {},
     "source": [
      "Recall that the update equation for impulse invariance is \n",
      "\n",
      "$$\n",
      "x[k] = e^{-\\Delta t/\\tau}x[k-1]+\\frac{\\Delta t}{\\tau}u[k] \n",
      "$$\n",
      "\n",
      "Given an impulse of height $\\frac{1}{\\Delta t}$, the impulse response will then have area\n",
      "\n",
      "\\begin{align}\n",
      "A &= \\Delta t\\left(\\frac{1}{\\tau} + \n",
      "     \\frac{1}{\\tau}e^{-\\Delta t/\\tau} +\n",
      "     \\frac{1}{\\tau}e^{-2\\Delta t/\\tau} +\n",
      "     \\ldots \\right) \\\\\n",
      "  &= \\frac{\\Delta t}{\\tau}\\sum_{k=0}^{\\infty}\\left(e^{-\\Delta t/\\tau}\\right)^k \\\\\n",
      "  &= \\frac{\\Delta t}{\\tau}\\frac{1}{1-e^{-\\Delta t/\\tau}} \\\\\n",
      "  &\\neq 1.\n",
      "\\end{align}\n",
      "\n",
      "The unit area is not preserved...In fact, taking the Taylor series expansion, we see that the area is increased as\n",
      "\n",
      "\\begin{align}\n",
      "A &= \\frac{\\Delta t}{\\tau}\\frac{1}{1-e^{-\\Delta t/\\tau}} \\\\\n",
      "  &= \\frac{\\Delta t}{\\tau}\\frac{1}{1-\\left(1-\\frac{\\Delta t}{\\tau}+\n",
      "                                              \\frac{\\Delta t^2}{2\\tau^2}-\n",
      "                                              \\frac{\\Delta t^3}{6\\tau^3}+\\ldots\\right)} \\\\\n",
      "  &= \\frac{\\Delta t}{\\tau}\\frac{1}{\\frac{\\Delta t}{\\tau}-\n",
      "                                              \\frac{\\Delta t^2}{2\\tau^2}+\n",
      "                                              \\frac{\\Delta t^3}{6\\tau^3}-\\ldots} \\\\\n",
      " &> 1\n",
      "\\end{align}\n",
      "\n",
      "because \n",
      "\n",
      "$$\n",
      "\\frac{\\Delta t}{\\tau}-\\frac{\\Delta t^2}{2\\tau^2}+ \\frac{\\Delta t^3}{6\\tau^3}-\\ldots < \\frac{\\Delta t}{\\tau}\n",
      "$$"
     ]
    },
    {
     "cell_type": "heading",
     "level": 2,
     "metadata": {},
     "source": [
      "Impulse invariance, corrected, area"
     ]
    },
    {
     "cell_type": "markdown",
     "metadata": {},
     "source": [
      "Recall that the update equation for corrected impulse invariance is \n",
      "\n",
      "$$\n",
      "x[k] = e^{-\\Delta t/\\tau}x[k-1] + \\frac{\\Delta t}{2\\tau}u[k]+\\frac{\\Delta t}{2\\tau}e^{-\\Delta t/\\tau}u[k-1] \n",
      "$$"
     ]
    },
    {
     "cell_type": "markdown",
     "metadata": {},
     "source": [
      "Given an impulse of height $\\frac{1}{\\Delta t}$, the impulse response will then have area"
     ]
    },
    {
     "cell_type": "markdown",
     "metadata": {},
     "source": [
      "\\begin{align}\n",
      "A &= \\Delta t\\left(\\overbrace{\\frac{1}{2\\tau}}^{k=0} + \n",
      "     \\overbrace{\\frac{1}{2\\tau}e^{-\\Delta t/\\tau} + \\frac{1}{2\\tau}e^{-\\Delta t/\\tau}}^{k=1} +\n",
      "     \\overbrace{\\left(\\frac{1}{2\\tau}e^{-\\Delta t/\\tau} + \\frac{1}{2\\tau}e^{-\\Delta t/\\tau}\\right)e^{-\\Delta t/\\tau}}^{k=2} + \n",
      "     \\ldots \\right) \\\\\n",
      "  &= \\Delta t\\left(\\frac{1}{2\\tau} + \n",
      "     \\frac{1}{\\tau}e^{-\\Delta t/\\tau} +\n",
      "     \\frac{1}{\\tau}e^{-2\\Delta t/\\tau} + \n",
      "     \\ldots \\right) \\\\\n",
      "  &= \\frac{\\Delta t}{2\\tau}+\\frac{\\Delta t}{\\tau}\\sum_{k=1}^{\\infty}\\left(e^{-\\Delta t/\\tau}\\right)^k \\\\\n",
      "  &= \\frac{\\Delta t}{\\tau}\\left(\\frac{1}{2}+\\sum_{k=1}^{\\infty}\\left(e^{-\\Delta t/\\tau}\\right)^k\\right) \\\\\n",
      "  &= \\frac{\\Delta t}{\\tau}\\left(\\frac{1}{2}+\\frac{e^{-\\Delta t/\\tau}}{1-e^{-\\Delta t/\\tau}}\\right) \\\\\n",
      "  &= \\frac{\\Delta t}{\\tau}\\left(\\frac{1-e^{-\\Delta t/\\tau}+2e^{-\\Delta t/\\tau}}{2\\left(1-e^{-\\Delta t/\\tau}\\right)}\\right) \\\\\n",
      "  &= \\frac{\\Delta t}{2\\tau}\\frac{1+e^{-\\Delta t/\\tau}}{1-e^{-\\Delta t/\\tau}} \\\\\n",
      "  &\\neq 1\n",
      "\\end{align}\n",
      "\n",
      "Again, the unit area is not preserved..."
     ]
    },
    {
     "cell_type": "heading",
     "level": 2,
     "metadata": {},
     "source": [
      "Area preserving impulse response discretization"
     ]
    },
    {
     "cell_type": "markdown",
     "metadata": {},
     "source": [
      "There is a modification to the impulse response update equation that will preserve area. If we let\n",
      "\n",
      "$$\n",
      "x[k] = e^{-\\Delta t/\\tau}x[k-1]+\\left(1-e^{-\\Delta t/\\tau}\\right)u[k] \n",
      "$$\n",
      "\n",
      "then the unit area of an impulse will be preserved. To prove this, \n",
      "\n",
      "\\begin{align}\n",
      "A &= \\Delta t\\left(\\frac{1-e^{-\\Delta t/\\tau}}{\\Delta t} + \n",
      "     \\frac{1-e^{-\\Delta t/\\tau}}{\\Delta t}e^{-\\Delta t/\\tau} +\n",
      "     \\frac{1-e^{-\\Delta t/\\tau}}{\\Delta t}e^{-2\\Delta t/\\tau} +\n",
      "     \\ldots \\right) \\\\\n",
      "  &= \\left(1-e^{-\\Delta t/\\tau}\\right)\\sum_{k=0}^{\\infty}\\left(e^{-\\Delta t/\\tau}\\right)^k \\\\\n",
      "  &= \\left(1-e^{-\\Delta t/\\tau}\\right)\\frac{1}{1-e^{-\\Delta t/\\tau}} \\\\\n",
      "  &= 1.\n",
      "\\end{align}"
     ]
    }
   ],
   "metadata": {}
  }
 ]
}